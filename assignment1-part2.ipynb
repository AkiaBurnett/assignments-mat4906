{
 "cells": [
  {
   "cell_type": "code",
   "execution_count": 4,
   "metadata": {},
   "outputs": [],
   "source": [
    "#matrix computation\n",
    "import numpy as np"
   ]
  },
  {
   "cell_type": "markdown",
   "metadata": {},
   "source": [
    "## Problem 1"
   ]
  },
  {
   "cell_type": "code",
   "execution_count": 5,
   "metadata": {},
   "outputs": [
    {
     "name": "stdout",
     "output_type": "stream",
     "text": [
      "[[  2 -14   8]\n",
      " [  2   5   3]] \n",
      "\n",
      "[[ 8  5  1]\n",
      " [ 6 10 -3]]\n"
     ]
    }
   ],
   "source": [
    "#create a square matrix\n",
    "\n",
    "x = np.array([[2,-14,8],[2,5,3]])\n",
    "z = np.array([[8,5,1],[6,10,-3]])\n",
    "print(x, \"\\n\")\n",
    "print(z)"
   ]
  },
  {
   "cell_type": "code",
   "execution_count": 6,
   "metadata": {},
   "outputs": [
    {
     "name": "stdout",
     "output_type": "stream",
     "text": [
      "[[ 16 -70   8]\n",
      " [ 12  50  -9]]\n"
     ]
    }
   ],
   "source": [
    "#multiplying matrices \n",
    "r_mul = x.__mul__(z)\n",
    "print(r_mul)"
   ]
  },
  {
   "cell_type": "markdown",
   "metadata": {},
   "source": [
    "### Problem 2"
   ]
  },
  {
   "cell_type": "code",
   "execution_count": 7,
   "metadata": {},
   "outputs": [
    {
     "name": "stdout",
     "output_type": "stream",
     "text": [
      "[[ 10  -4  -8]\n",
      " [-12 -20   6]\n",
      " [ 24 -14   4]]\n"
     ]
    }
   ],
   "source": [
    "#scalar product of a constant and matrix\n",
    "lambda_value = -2\n",
    "m = np.array([[-5,2,4],[6,10,-3],[-12,7,-2]])\n",
    "\n",
    "scalar_value = lambda_value*m\n",
    "print(scalar_value)"
   ]
  },
  {
   "cell_type": "markdown",
   "metadata": {},
   "source": [
    "### Problem 3"
   ]
  },
  {
   "cell_type": "code",
   "execution_count": 16,
   "metadata": {},
   "outputs": [
    {
     "data": {
      "text/plain": [
       "-81.99999999999994"
      ]
     },
     "execution_count": 16,
     "metadata": {},
     "output_type": "execute_result"
    }
   ],
   "source": [
    "#det of a matrix\n",
    "z = np.array([[2,-14,8],[2,5,3],[5,10,6]])\n",
    "\n",
    "np.linalg.det(z)\n",
    "\n"
   ]
  },
  {
   "cell_type": "code",
   "execution_count": 17,
   "metadata": {},
   "outputs": [
    {
     "data": {
      "text/plain": [
       "-2026.0"
      ]
     },
     "execution_count": 17,
     "metadata": {},
     "output_type": "execute_result"
    }
   ],
   "source": [
    "#det of a matrix\n",
    "y = np.array([[8,5,7,9],[-2,12,6,6],[7,15,2,3],[5,-7,1,4]])\n",
    "\n",
    "np.linalg.det(y)"
   ]
  }
 ],
 "metadata": {
  "interpreter": {
   "hash": "247ab06e135bb35fa78c5eff31b2a9a0050dcb5fb773c2631d2a29ac689eeccb"
  },
  "kernelspec": {
   "display_name": "Python 3.9.5 64-bit",
   "language": "python",
   "name": "python3"
  },
  "language_info": {
   "codemirror_mode": {
    "name": "ipython",
    "version": 3
   },
   "file_extension": ".py",
   "mimetype": "text/x-python",
   "name": "python",
   "nbconvert_exporter": "python",
   "pygments_lexer": "ipython3",
   "version": "3.9.5"
  },
  "orig_nbformat": 4
 },
 "nbformat": 4,
 "nbformat_minor": 2
}
