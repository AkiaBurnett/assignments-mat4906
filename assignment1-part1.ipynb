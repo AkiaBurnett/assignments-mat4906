{
 "cells": [
  {
   "cell_type": "code",
   "execution_count": 15,
   "metadata": {},
   "outputs": [],
   "source": [
    "#linear systems \n",
    "import numpy as np\n",
    "import matplotlib.pyplot as plt\n",
    "import pandas as pd"
   ]
  },
  {
   "cell_type": "markdown",
   "metadata": {},
   "source": [
    "### Problem 1"
   ]
  },
  {
   "cell_type": "code",
   "execution_count": 38,
   "metadata": {},
   "outputs": [
    {
     "name": "stdout",
     "output_type": "stream",
     "text": [
      "dim. of matrix A= (2, 2)\n",
      "\n",
      " 12.0\n",
      "\n",
      " [[ 0.25       -0.25      ]\n",
      " [-0.66666667  1.        ]]\n",
      "\n",
      " [[10.]\n",
      " [14.]]\n"
     ]
    }
   ],
   "source": [
    "#12x + 3y = 162 and 8x + 3y = 122\n",
    "\n",
    "A = np.array([[12,3],[8,3]])\n",
    "b = np.array([[162],[122]])\n",
    "\n",
    "#verfiy the size\n",
    "print(\"dim. of matrix A=\", A.shape)\n",
    "\n",
    "#find the det(A)  \n",
    "det= np.linalg.det(A)\n",
    "print(\"\\n\", det)\n",
    "\n",
    "#defining the inverse \n",
    "inv_A = np.linalg.inv(A) \n",
    "print(\"\\n\", inv_A)\n",
    "\n",
    "#find the solution\n",
    "sol = inv_A.dot(b)\n",
    "print(\"\\n\",sol)"
   ]
  },
  {
   "cell_type": "markdown",
   "metadata": {},
   "source": [
    "### Problem 2"
   ]
  },
  {
   "cell_type": "code",
   "execution_count": 40,
   "metadata": {},
   "outputs": [
    {
     "name": "stdout",
     "output_type": "stream",
     "text": [
      "dim. of matrix A= (2, 2)\n",
      "\n",
      " -2.9999999999999996\n",
      "\n",
      " [[-1.          0.33333333]\n",
      " [ 2.         -0.33333333]]\n",
      "\n",
      " [[4.]\n",
      " [2.]]\n"
     ]
    }
   ],
   "source": [
    "#x + y = 6 and 6x + 3y = 30\n",
    "\n",
    "A = np.array([[1,1],[6,3]])\n",
    "b = np.array([[6],[30]])\n",
    "\n",
    "#verfiy the size\n",
    "print(\"dim. of matrix A=\", A.shape)\n",
    "\n",
    "#find the det(A)  \n",
    "det= np.linalg.det(A)\n",
    "print(\"\\n\", det)\n",
    "\n",
    "#defining the inverse \n",
    "inv_A = np.linalg.inv(A) \n",
    "print(\"\\n\", inv_A)\n",
    "\n",
    "#find the solution\n",
    "sol = inv_A.dot(b)\n",
    "print(\"\\n\",sol)"
   ]
  },
  {
   "cell_type": "markdown",
   "metadata": {},
   "source": [
    "### Problem 3"
   ]
  },
  {
   "cell_type": "code",
   "execution_count": 42,
   "metadata": {},
   "outputs": [
    {
     "name": "stdout",
     "output_type": "stream",
     "text": [
      "dim. of matrix A= (3, 3)\n",
      "\n",
      " 0.060000000000000026\n",
      "\n",
      " [[  0.5         -0.5          0.        ]\n",
      " [  1.66666667   0.66666667 -33.33333333]\n",
      " [ -1.16666667  -0.16666667  33.33333333]]\n",
      "\n",
      " [[4000.        ]\n",
      " [ 333.33333333]\n",
      " [7666.66666667]]\n"
     ]
    }
   ],
   "source": [
    "#x+y+z = 12000 and -y+z = 4000 and .03x+.04y+.07z = 670\n",
    "A = np.array([[1,1,1],[-1,1,1],[.03,.04,.07]])\n",
    "b = np.array([[12000],[4000],[670]])\n",
    "\n",
    "#verfiy the size\n",
    "print(\"dim. of matrix A=\", A.shape)\n",
    "\n",
    "#find the det(A)  \n",
    "det= np.linalg.det(A)\n",
    "print(\"\\n\", det)\n",
    "\n",
    "#defining the inverse \n",
    "inv_A = np.linalg.inv(A) \n",
    "print(\"\\n\", inv_A)\n",
    "\n",
    "#find the solution\n",
    "sol = inv_A.dot(b)\n",
    "print(\"\\n\",sol)"
   ]
  }
 ],
 "metadata": {
  "interpreter": {
   "hash": "247ab06e135bb35fa78c5eff31b2a9a0050dcb5fb773c2631d2a29ac689eeccb"
  },
  "kernelspec": {
   "display_name": "Python 3.9.5 64-bit",
   "language": "python",
   "name": "python3"
  },
  "language_info": {
   "codemirror_mode": {
    "name": "ipython",
    "version": 3
   },
   "file_extension": ".py",
   "mimetype": "text/x-python",
   "name": "python",
   "nbconvert_exporter": "python",
   "pygments_lexer": "ipython3",
   "version": "3.9.5"
  },
  "orig_nbformat": 4
 },
 "nbformat": 4,
 "nbformat_minor": 2
}
